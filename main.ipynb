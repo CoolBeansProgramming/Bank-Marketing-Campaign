{
 "cells": [
  {
   "attachments": {},
   "cell_type": "markdown",
   "metadata": {},
   "source": [
    "Bank Marketing Campaign"
   ]
  },
  {
   "cell_type": "code",
   "execution_count": 58,
   "metadata": {},
   "outputs": [],
   "source": [
    "import numpy as np\n",
    "import pandas as pd\n",
    "import matplotlib.pyplot as plt \n",
    "import seaborn as sns\n",
    "from IPython.display import display\n"
   ]
  },
  {
   "cell_type": "code",
   "execution_count": 59,
   "metadata": {},
   "outputs": [
    {
     "name": "stdout",
     "output_type": "stream",
     "text": [
      "Connecting to the PostgreSQL database...\n",
      "PostgreSQL database version:\n",
      "('PostgreSQL 14.2, compiled by Visual C++ build 1914, 64-bit',)\n",
      "Database connection closed.\n",
      "Connecting to the PostgreSQL database...\n",
      "PostgreSQL database version:\n",
      "('PostgreSQL 14.2, compiled by Visual C++ build 1914, 64-bit',)\n",
      "Database connection closed.\n"
     ]
    }
   ],
   "source": [
    "# connect to postgres database \n",
    "# select all data\n",
    "\n",
    "import psycopg2\n",
    "import pandas as pd\n",
    "from config import config\n",
    "\n",
    "import warnings\n",
    "warnings.filterwarnings('ignore')\n",
    "\n",
    "def connect():\n",
    "    \"\"\" Connect to the PostgreSQL database server \"\"\"\n",
    "    conn = None\n",
    "    try:\n",
    "        # read connection parameters\n",
    "        params = config()\n",
    "\n",
    "        # connect to the PostgreSQL server\n",
    "        print('Connecting to the PostgreSQL database...')\n",
    "        conn = psycopg2.connect(**params)\n",
    "\t\t\n",
    "        # create a cursor\n",
    "        cur = conn.cursor()\n",
    "        \n",
    "\t# execute a statement\n",
    "        print('PostgreSQL database version:')\n",
    "        cur.execute('SELECT version()')\n",
    "\n",
    "        # display the PostgreSQL database server version\n",
    "        db_version = cur.fetchone()\n",
    "        print(db_version)\n",
    "       \n",
    "    # select all \n",
    "        df = pd.read_sql('SELECT * FROM customer',conn)\n",
    "        # print(df.head())\n",
    "        return df\n",
    "        \n",
    "\t# close the communication with the PostgreSQL\n",
    "        cur.close()\n",
    "    except (Exception, psycopg2.DatabaseError) as error:\n",
    "        print(error)\n",
    "    finally:\n",
    "        if conn is not None:\n",
    "            conn.close()\n",
    "            print('Database connection closed.')\n",
    "    \n",
    "\n",
    "if __name__ == '__main__':\n",
    "    connect()\n",
    "    \n",
    "    \n",
    "\n",
    "df = connect()\n",
    "\n"
   ]
  },
  {
   "cell_type": "code",
   "execution_count": 60,
   "metadata": {},
   "outputs": [
    {
     "data": {
      "text/plain": [
       "(45211, 17)"
      ]
     },
     "metadata": {},
     "output_type": "display_data"
    },
    {
     "data": {
      "text/html": [
       "<div>\n",
       "<style scoped>\n",
       "    .dataframe tbody tr th:only-of-type {\n",
       "        vertical-align: middle;\n",
       "    }\n",
       "\n",
       "    .dataframe tbody tr th {\n",
       "        vertical-align: top;\n",
       "    }\n",
       "\n",
       "    .dataframe thead th {\n",
       "        text-align: right;\n",
       "    }\n",
       "</style>\n",
       "<table border=\"1\" class=\"dataframe\">\n",
       "  <thead>\n",
       "    <tr style=\"text-align: right;\">\n",
       "      <th></th>\n",
       "      <th>age</th>\n",
       "      <th>job</th>\n",
       "      <th>marital_status</th>\n",
       "      <th>education</th>\n",
       "      <th>default_status</th>\n",
       "      <th>balance</th>\n",
       "      <th>housing</th>\n",
       "      <th>loan</th>\n",
       "      <th>contact</th>\n",
       "      <th>day_of_month</th>\n",
       "      <th>month_name</th>\n",
       "      <th>duration</th>\n",
       "      <th>campaign</th>\n",
       "      <th>pdays</th>\n",
       "      <th>previous</th>\n",
       "      <th>poutcome</th>\n",
       "      <th>y</th>\n",
       "    </tr>\n",
       "  </thead>\n",
       "  <tbody>\n",
       "    <tr>\n",
       "      <th>0</th>\n",
       "      <td>58</td>\n",
       "      <td>management</td>\n",
       "      <td>married</td>\n",
       "      <td>tertiary</td>\n",
       "      <td>no</td>\n",
       "      <td>2143</td>\n",
       "      <td>yes</td>\n",
       "      <td>no</td>\n",
       "      <td>unknown</td>\n",
       "      <td>5</td>\n",
       "      <td>may</td>\n",
       "      <td>261</td>\n",
       "      <td>1</td>\n",
       "      <td>-1</td>\n",
       "      <td>0</td>\n",
       "      <td>unknown</td>\n",
       "      <td>no</td>\n",
       "    </tr>\n",
       "    <tr>\n",
       "      <th>1</th>\n",
       "      <td>44</td>\n",
       "      <td>technician</td>\n",
       "      <td>single</td>\n",
       "      <td>secondary</td>\n",
       "      <td>no</td>\n",
       "      <td>29</td>\n",
       "      <td>yes</td>\n",
       "      <td>no</td>\n",
       "      <td>unknown</td>\n",
       "      <td>5</td>\n",
       "      <td>may</td>\n",
       "      <td>151</td>\n",
       "      <td>1</td>\n",
       "      <td>-1</td>\n",
       "      <td>0</td>\n",
       "      <td>unknown</td>\n",
       "      <td>no</td>\n",
       "    </tr>\n",
       "    <tr>\n",
       "      <th>2</th>\n",
       "      <td>33</td>\n",
       "      <td>entrepreneur</td>\n",
       "      <td>married</td>\n",
       "      <td>secondary</td>\n",
       "      <td>no</td>\n",
       "      <td>2</td>\n",
       "      <td>yes</td>\n",
       "      <td>yes</td>\n",
       "      <td>unknown</td>\n",
       "      <td>5</td>\n",
       "      <td>may</td>\n",
       "      <td>76</td>\n",
       "      <td>1</td>\n",
       "      <td>-1</td>\n",
       "      <td>0</td>\n",
       "      <td>unknown</td>\n",
       "      <td>no</td>\n",
       "    </tr>\n",
       "    <tr>\n",
       "      <th>3</th>\n",
       "      <td>47</td>\n",
       "      <td>blue-collar</td>\n",
       "      <td>married</td>\n",
       "      <td>unknown</td>\n",
       "      <td>no</td>\n",
       "      <td>1506</td>\n",
       "      <td>yes</td>\n",
       "      <td>no</td>\n",
       "      <td>unknown</td>\n",
       "      <td>5</td>\n",
       "      <td>may</td>\n",
       "      <td>92</td>\n",
       "      <td>1</td>\n",
       "      <td>-1</td>\n",
       "      <td>0</td>\n",
       "      <td>unknown</td>\n",
       "      <td>no</td>\n",
       "    </tr>\n",
       "    <tr>\n",
       "      <th>4</th>\n",
       "      <td>33</td>\n",
       "      <td>unknown</td>\n",
       "      <td>single</td>\n",
       "      <td>unknown</td>\n",
       "      <td>no</td>\n",
       "      <td>1</td>\n",
       "      <td>no</td>\n",
       "      <td>no</td>\n",
       "      <td>unknown</td>\n",
       "      <td>5</td>\n",
       "      <td>may</td>\n",
       "      <td>198</td>\n",
       "      <td>1</td>\n",
       "      <td>-1</td>\n",
       "      <td>0</td>\n",
       "      <td>unknown</td>\n",
       "      <td>no</td>\n",
       "    </tr>\n",
       "  </tbody>\n",
       "</table>\n",
       "</div>"
      ],
      "text/plain": [
       "   age           job marital_status  education default_status  balance  \\\n",
       "0   58    management        married   tertiary             no     2143   \n",
       "1   44    technician         single  secondary             no       29   \n",
       "2   33  entrepreneur        married  secondary             no        2   \n",
       "3   47   blue-collar        married    unknown             no     1506   \n",
       "4   33       unknown         single    unknown             no        1   \n",
       "\n",
       "  housing loan  contact  day_of_month month_name  duration  campaign  pdays  \\\n",
       "0     yes   no  unknown             5      may         261         1     -1   \n",
       "1     yes   no  unknown             5      may         151         1     -1   \n",
       "2     yes  yes  unknown             5      may          76         1     -1   \n",
       "3     yes   no  unknown             5      may          92         1     -1   \n",
       "4      no   no  unknown             5      may         198         1     -1   \n",
       "\n",
       "   previous poutcome      y  \n",
       "0         0  unknown  no     \n",
       "1         0  unknown  no     \n",
       "2         0  unknown  no     \n",
       "3         0  unknown  no     \n",
       "4         0  unknown  no     "
      ]
     },
     "metadata": {},
     "output_type": "display_data"
    }
   ],
   "source": [
    "# overview   \n",
    "\n",
    "display(df.shape)\n",
    "display(df.head())"
   ]
  },
  {
   "attachments": {},
   "cell_type": "markdown",
   "metadata": {},
   "source": [
    "The data consists of over 45,000 records and 17 columns. A quick snapshot shows columns consisting of age, job type, marital status, education, default status, housing, whether the client currently has a mortgage or personal loan, previous campaign information including the duration, contact type, and the outcome. The last column indicates if the customer subscribed to a term deposit after the current campaign. "
   ]
  },
  {
   "cell_type": "code",
   "execution_count": 61,
   "metadata": {},
   "outputs": [
    {
     "data": {
      "text/plain": [
       "age               0\n",
       "job               0\n",
       "marital_status    0\n",
       "education         0\n",
       "default_status    0\n",
       "balance           0\n",
       "housing           0\n",
       "loan              0\n",
       "contact           0\n",
       "day_of_month      0\n",
       "month_name        0\n",
       "duration          0\n",
       "campaign          0\n",
       "pdays             0\n",
       "previous          0\n",
       "poutcome          0\n",
       "y                 0\n",
       "dtype: int64"
      ]
     },
     "metadata": {},
     "output_type": "display_data"
    },
    {
     "name": "stdout",
     "output_type": "stream",
     "text": [
      "<class 'pandas.core.frame.DataFrame'>\n",
      "RangeIndex: 45211 entries, 0 to 45210\n",
      "Data columns (total 17 columns):\n",
      " #   Column          Non-Null Count  Dtype \n",
      "---  ------          --------------  ----- \n",
      " 0   age             45211 non-null  int64 \n",
      " 1   job             45211 non-null  object\n",
      " 2   marital_status  45211 non-null  object\n",
      " 3   education       45211 non-null  object\n",
      " 4   default_status  45211 non-null  object\n",
      " 5   balance         45211 non-null  int64 \n",
      " 6   housing         45211 non-null  object\n",
      " 7   loan            45211 non-null  object\n",
      " 8   contact         45211 non-null  object\n",
      " 9   day_of_month    45211 non-null  int64 \n",
      " 10  month_name      45211 non-null  object\n",
      " 11  duration        45211 non-null  int64 \n",
      " 12  campaign        45211 non-null  int64 \n",
      " 13  pdays           45211 non-null  int64 \n",
      " 14  previous        45211 non-null  int64 \n",
      " 15  poutcome        45211 non-null  object\n",
      " 16  y               45211 non-null  object\n",
      "dtypes: int64(7), object(10)\n",
      "memory usage: 5.9+ MB\n"
     ]
    },
    {
     "data": {
      "text/plain": [
       "None"
      ]
     },
     "metadata": {},
     "output_type": "display_data"
    }
   ],
   "source": [
    "display(df.isnull().sum())\n",
    "display(df.info())"
   ]
  },
  {
   "attachments": {},
   "cell_type": "markdown",
   "metadata": {},
   "source": [
    "The data does not have any missing values and all variables are of type int or object. "
   ]
  },
  {
   "cell_type": "code",
   "execution_count": 62,
   "metadata": {},
   "outputs": [
    {
     "data": {
      "text/plain": [
       "0"
      ]
     },
     "metadata": {},
     "output_type": "display_data"
    }
   ],
   "source": [
    "# Check for duplicates\n",
    "\n",
    "display(df.duplicated().sum())"
   ]
  },
  {
   "attachments": {},
   "cell_type": "markdown",
   "metadata": {},
   "source": [
    "The data also does not have any duplicate entries. "
   ]
  },
  {
   "cell_type": "code",
   "execution_count": 63,
   "metadata": {},
   "outputs": [],
   "source": [
    "# rename 'y' column (subscribed to time deposit)\n",
    "\n",
    "df.rename(columns={\"y\": 'subscribed'}, inplace=True)"
   ]
  },
  {
   "cell_type": "code",
   "execution_count": 64,
   "metadata": {},
   "outputs": [
    {
     "data": {
      "text/html": [
       "<div>\n",
       "<style scoped>\n",
       "    .dataframe tbody tr th:only-of-type {\n",
       "        vertical-align: middle;\n",
       "    }\n",
       "\n",
       "    .dataframe tbody tr th {\n",
       "        vertical-align: top;\n",
       "    }\n",
       "\n",
       "    .dataframe thead th {\n",
       "        text-align: right;\n",
       "    }\n",
       "</style>\n",
       "<table border=\"1\" class=\"dataframe\">\n",
       "  <thead>\n",
       "    <tr style=\"text-align: right;\">\n",
       "      <th></th>\n",
       "      <th>age</th>\n",
       "      <th>balance</th>\n",
       "      <th>day_of_month</th>\n",
       "      <th>duration</th>\n",
       "      <th>campaign</th>\n",
       "      <th>pdays</th>\n",
       "      <th>previous</th>\n",
       "    </tr>\n",
       "  </thead>\n",
       "  <tbody>\n",
       "    <tr>\n",
       "      <th>count</th>\n",
       "      <td>45211.00</td>\n",
       "      <td>45211.00</td>\n",
       "      <td>45211.00</td>\n",
       "      <td>45211.00</td>\n",
       "      <td>45211.00</td>\n",
       "      <td>45211.00</td>\n",
       "      <td>45211.00</td>\n",
       "    </tr>\n",
       "    <tr>\n",
       "      <th>mean</th>\n",
       "      <td>40.94</td>\n",
       "      <td>1362.27</td>\n",
       "      <td>15.81</td>\n",
       "      <td>258.16</td>\n",
       "      <td>2.76</td>\n",
       "      <td>40.20</td>\n",
       "      <td>0.58</td>\n",
       "    </tr>\n",
       "    <tr>\n",
       "      <th>std</th>\n",
       "      <td>10.62</td>\n",
       "      <td>3044.77</td>\n",
       "      <td>8.32</td>\n",
       "      <td>257.53</td>\n",
       "      <td>3.10</td>\n",
       "      <td>100.13</td>\n",
       "      <td>2.30</td>\n",
       "    </tr>\n",
       "    <tr>\n",
       "      <th>min</th>\n",
       "      <td>18.00</td>\n",
       "      <td>-8019.00</td>\n",
       "      <td>1.00</td>\n",
       "      <td>0.00</td>\n",
       "      <td>1.00</td>\n",
       "      <td>-1.00</td>\n",
       "      <td>0.00</td>\n",
       "    </tr>\n",
       "    <tr>\n",
       "      <th>25%</th>\n",
       "      <td>33.00</td>\n",
       "      <td>72.00</td>\n",
       "      <td>8.00</td>\n",
       "      <td>103.00</td>\n",
       "      <td>1.00</td>\n",
       "      <td>-1.00</td>\n",
       "      <td>0.00</td>\n",
       "    </tr>\n",
       "    <tr>\n",
       "      <th>50%</th>\n",
       "      <td>39.00</td>\n",
       "      <td>448.00</td>\n",
       "      <td>16.00</td>\n",
       "      <td>180.00</td>\n",
       "      <td>2.00</td>\n",
       "      <td>-1.00</td>\n",
       "      <td>0.00</td>\n",
       "    </tr>\n",
       "    <tr>\n",
       "      <th>75%</th>\n",
       "      <td>48.00</td>\n",
       "      <td>1428.00</td>\n",
       "      <td>21.00</td>\n",
       "      <td>319.00</td>\n",
       "      <td>3.00</td>\n",
       "      <td>-1.00</td>\n",
       "      <td>0.00</td>\n",
       "    </tr>\n",
       "    <tr>\n",
       "      <th>max</th>\n",
       "      <td>95.00</td>\n",
       "      <td>102127.00</td>\n",
       "      <td>31.00</td>\n",
       "      <td>4918.00</td>\n",
       "      <td>63.00</td>\n",
       "      <td>871.00</td>\n",
       "      <td>275.00</td>\n",
       "    </tr>\n",
       "  </tbody>\n",
       "</table>\n",
       "</div>"
      ],
      "text/plain": [
       "            age    balance day_of_month  duration  campaign     pdays  \\\n",
       "count  45211.00   45211.00     45211.00  45211.00  45211.00  45211.00   \n",
       "mean      40.94    1362.27        15.81    258.16      2.76     40.20   \n",
       "std       10.62    3044.77         8.32    257.53      3.10    100.13   \n",
       "min       18.00   -8019.00         1.00      0.00      1.00     -1.00   \n",
       "25%       33.00      72.00         8.00    103.00      1.00     -1.00   \n",
       "50%       39.00     448.00        16.00    180.00      2.00     -1.00   \n",
       "75%       48.00    1428.00        21.00    319.00      3.00     -1.00   \n",
       "max       95.00  102127.00        31.00   4918.00     63.00    871.00   \n",
       "\n",
       "       previous  \n",
       "count  45211.00  \n",
       "mean       0.58  \n",
       "std        2.30  \n",
       "min        0.00  \n",
       "25%        0.00  \n",
       "50%        0.00  \n",
       "75%        0.00  \n",
       "max      275.00  "
      ]
     },
     "metadata": {},
     "output_type": "display_data"
    }
   ],
   "source": [
    "display(df.describe().applymap(lambda x: f\"{x:0.2f}\"))"
   ]
  },
  {
   "attachments": {},
   "cell_type": "markdown",
   "metadata": {},
   "source": [
    "A quick summary of statistics shows that the average age is about 41 with a range between 18 and 95 years of age. The average contact duration time was 258 seconds."
   ]
  },
  {
   "cell_type": "code",
   "execution_count": 65,
   "metadata": {},
   "outputs": [
    {
     "data": {
      "text/plain": [
       "contact\n",
       "cellular     263.01\n",
       "telephone    235.37\n",
       "unknown      252.34\n",
       "Name: duration, dtype: float64"
      ]
     },
     "execution_count": 65,
     "metadata": {},
     "output_type": "execute_result"
    }
   ],
   "source": [
    "# average duration by contact type \n",
    "df.groupby('contact')['duration'].agg('mean').round(2)"
   ]
  },
  {
   "attachments": {},
   "cell_type": "markdown",
   "metadata": {},
   "source": [
    "The average contact time duration for the last campaign was slightly higher for those with cell phones compared to those with telephones. "
   ]
  },
  {
   "cell_type": "code",
   "execution_count": 66,
   "metadata": {},
   "outputs": [
    {
     "data": {
      "text/html": [
       "<div>\n",
       "<style scoped>\n",
       "    .dataframe tbody tr th:only-of-type {\n",
       "        vertical-align: middle;\n",
       "    }\n",
       "\n",
       "    .dataframe tbody tr th {\n",
       "        vertical-align: top;\n",
       "    }\n",
       "\n",
       "    .dataframe thead th {\n",
       "        text-align: right;\n",
       "    }\n",
       "</style>\n",
       "<table border=\"1\" class=\"dataframe\">\n",
       "  <thead>\n",
       "    <tr style=\"text-align: right;\">\n",
       "      <th></th>\n",
       "      <th>mean</th>\n",
       "      <th>median</th>\n",
       "      <th>std</th>\n",
       "      <th>min</th>\n",
       "      <th>max</th>\n",
       "    </tr>\n",
       "    <tr>\n",
       "      <th>job</th>\n",
       "      <th></th>\n",
       "      <th></th>\n",
       "      <th></th>\n",
       "      <th></th>\n",
       "      <th></th>\n",
       "    </tr>\n",
       "  </thead>\n",
       "  <tbody>\n",
       "    <tr>\n",
       "      <th>retired</th>\n",
       "      <td>1984.22</td>\n",
       "      <td>787.0</td>\n",
       "      <td>4397.04</td>\n",
       "      <td>-1598</td>\n",
       "      <td>81204</td>\n",
       "    </tr>\n",
       "    <tr>\n",
       "      <th>unknown</th>\n",
       "      <td>1772.36</td>\n",
       "      <td>677.0</td>\n",
       "      <td>2970.29</td>\n",
       "      <td>-295</td>\n",
       "      <td>19706</td>\n",
       "    </tr>\n",
       "    <tr>\n",
       "      <th>management</th>\n",
       "      <td>1763.62</td>\n",
       "      <td>572.0</td>\n",
       "      <td>3822.97</td>\n",
       "      <td>-6847</td>\n",
       "      <td>102127</td>\n",
       "    </tr>\n",
       "    <tr>\n",
       "      <th>self-employed</th>\n",
       "      <td>1647.97</td>\n",
       "      <td>526.0</td>\n",
       "      <td>3684.26</td>\n",
       "      <td>-3313</td>\n",
       "      <td>52587</td>\n",
       "    </tr>\n",
       "    <tr>\n",
       "      <th>unemployed</th>\n",
       "      <td>1521.75</td>\n",
       "      <td>529.0</td>\n",
       "      <td>3144.67</td>\n",
       "      <td>-1270</td>\n",
       "      <td>44134</td>\n",
       "    </tr>\n",
       "    <tr>\n",
       "      <th>entrepreneur</th>\n",
       "      <td>1521.47</td>\n",
       "      <td>352.0</td>\n",
       "      <td>4153.44</td>\n",
       "      <td>-2082</td>\n",
       "      <td>59649</td>\n",
       "    </tr>\n",
       "    <tr>\n",
       "      <th>housemaid</th>\n",
       "      <td>1392.40</td>\n",
       "      <td>406.0</td>\n",
       "      <td>2984.69</td>\n",
       "      <td>-1941</td>\n",
       "      <td>45141</td>\n",
       "    </tr>\n",
       "    <tr>\n",
       "      <th>student</th>\n",
       "      <td>1388.06</td>\n",
       "      <td>502.0</td>\n",
       "      <td>2441.70</td>\n",
       "      <td>-679</td>\n",
       "      <td>24025</td>\n",
       "    </tr>\n",
       "    <tr>\n",
       "      <th>technician</th>\n",
       "      <td>1252.63</td>\n",
       "      <td>421.0</td>\n",
       "      <td>2548.54</td>\n",
       "      <td>-2827</td>\n",
       "      <td>45248</td>\n",
       "    </tr>\n",
       "    <tr>\n",
       "      <th>admin.</th>\n",
       "      <td>1135.84</td>\n",
       "      <td>396.0</td>\n",
       "      <td>2641.96</td>\n",
       "      <td>-1601</td>\n",
       "      <td>64343</td>\n",
       "    </tr>\n",
       "    <tr>\n",
       "      <th>blue-collar</th>\n",
       "      <td>1078.83</td>\n",
       "      <td>388.0</td>\n",
       "      <td>2240.52</td>\n",
       "      <td>-8019</td>\n",
       "      <td>66653</td>\n",
       "    </tr>\n",
       "    <tr>\n",
       "      <th>services</th>\n",
       "      <td>997.09</td>\n",
       "      <td>339.5</td>\n",
       "      <td>2164.49</td>\n",
       "      <td>-2122</td>\n",
       "      <td>57435</td>\n",
       "    </tr>\n",
       "  </tbody>\n",
       "</table>\n",
       "</div>"
      ],
      "text/plain": [
       "                  mean  median      std   min     max\n",
       "job                                                  \n",
       "retired        1984.22   787.0  4397.04 -1598   81204\n",
       "unknown        1772.36   677.0  2970.29  -295   19706\n",
       "management     1763.62   572.0  3822.97 -6847  102127\n",
       "self-employed  1647.97   526.0  3684.26 -3313   52587\n",
       "unemployed     1521.75   529.0  3144.67 -1270   44134\n",
       "entrepreneur   1521.47   352.0  4153.44 -2082   59649\n",
       "housemaid      1392.40   406.0  2984.69 -1941   45141\n",
       "student        1388.06   502.0  2441.70  -679   24025\n",
       "technician     1252.63   421.0  2548.54 -2827   45248\n",
       "admin.         1135.84   396.0  2641.96 -1601   64343\n",
       "blue-collar    1078.83   388.0  2240.52 -8019   66653\n",
       "services        997.09   339.5  2164.49 -2122   57435"
      ]
     },
     "execution_count": 66,
     "metadata": {},
     "output_type": "execute_result"
    }
   ],
   "source": [
    "# balance statistics by job type \n",
    "\n",
    "df.groupby('job')['balance'].agg(['mean','median','std','min','max']).sort_values(by=['mean'], ascending=False).round(2)"
   ]
  },
  {
   "attachments": {},
   "cell_type": "markdown",
   "metadata": {},
   "source": [
    "On average, retirees have the hightest balance followed by those with an unknown job type and clients who work in management. Those in the service industry have on average the lowest balances. "
   ]
  },
  {
   "cell_type": "code",
   "execution_count": 67,
   "metadata": {},
   "outputs": [
    {
     "data": {
      "text/plain": [
       "married     60.193316\n",
       "single      28.289576\n",
       "divorced    11.517109\n",
       "Name: marital_status, dtype: float64"
      ]
     },
     "metadata": {},
     "output_type": "display_data"
    },
    {
     "data": {
      "text/plain": [
       "secondary    51.319369\n",
       "tertiary     29.419831\n",
       "primary      15.153392\n",
       "unknown       4.107407\n",
       "Name: education, dtype: float64"
      ]
     },
     "metadata": {},
     "output_type": "display_data"
    },
    {
     "data": {
      "text/plain": [
       "no     98.197341\n",
       "yes     1.802659\n",
       "Name: default_status, dtype: float64"
      ]
     },
     "metadata": {},
     "output_type": "display_data"
    }
   ],
   "source": [
    "# percentages: marital status, education, default status\n",
    "\n",
    "display(df.marital_status.value_counts(normalize=True)*100)\n",
    "display(df.education.value_counts(normalize=True)*100)\n",
    "display(df.default_status.value_counts(normalize=True)*100)"
   ]
  },
  {
   "attachments": {},
   "cell_type": "markdown",
   "metadata": {},
   "source": [
    "Most clients in the campaign are married. For educational status, about half have secondary education. Also note that 98% of clients are currently not in default. "
   ]
  },
  {
   "cell_type": "code",
   "execution_count": 68,
   "metadata": {},
   "outputs": [],
   "source": [
    "# boxplots:  default status and balance  \n",
    "\n",
    "# plt.style.use('ggplot')\n",
    "# sns.catplot(x=\"default_status\", y=\"balance\", data=df, kind=\"box\", aspect=2)\n",
    "# plt.xlabel(\"Status\")\n",
    "# plt.ylabel(\"Balance\")\n",
    "# plt.title(\"Distribution of Balance by Default Status\")"
   ]
  },
  {
   "cell_type": "code",
   "execution_count": 69,
   "metadata": {},
   "outputs": [
    {
     "data": {
      "text/plain": [
       "job           default_status\n",
       "admin.        no                98.57\n",
       "              yes                1.43\n",
       "blue-collar   no                97.93\n",
       "              yes                2.07\n",
       "entrepreneur  no                96.30\n",
       "              yes                3.70\n",
       "housemaid     no                98.23\n",
       "              yes                1.77\n",
       "management    no                98.27\n",
       "              yes                1.73\n",
       "Name: default_status, dtype: float64"
      ]
     },
     "execution_count": 69,
     "metadata": {},
     "output_type": "execute_result"
    }
   ],
   "source": [
    "# Default status grouped by occupation type \n",
    "\n",
    "occupation_grp = df.groupby('job')\n",
    "(occupation_grp['default_status'].value_counts(normalize=True)*100).round(2).head(10)"
   ]
  },
  {
   "attachments": {},
   "cell_type": "markdown",
   "metadata": {},
   "source": [
    "Those with roles in admin, housemaid, and management had a 98% default status of \"no\" while entrepreneurs had a 96% default status of \"no\"."
   ]
  },
  {
   "cell_type": "code",
   "execution_count": 70,
   "metadata": {},
   "outputs": [
    {
     "data": {
      "text/plain": [
       "Text(0.5, 1.0, 'Age Distribution')"
      ]
     },
     "execution_count": 70,
     "metadata": {},
     "output_type": "execute_result"
    },
    {
     "data": {
      "image/png": "[encoded data removed]",
      "text/plain": [
       "<Figure size 640x480 with 1 Axes>"
      ]
     },
     "metadata": {},
     "output_type": "display_data"
    }
   ],
   "source": [
    "# distribution of customer age \n",
    "\n",
    "fig, ax =plt.subplots()\n",
    "\n",
    "ax.hist(df['age'])\n",
    "ax.set_xlabel('Age')\n",
    "ax.set_ylabel('# of Customers')\n",
    "ax.set_title('Age Distribution')"
   ]
  },
  {
   "attachments": {},
   "cell_type": "markdown",
   "metadata": {},
   "source": [
    "The distribution of age is right skewed with most clients being between ages 35 and 55. "
   ]
  },
  {
   "cell_type": "code",
   "execution_count": 72,
   "metadata": {},
   "outputs": [
    {
     "data": {
      "text/plain": [
       "Text(0.5, 0.98, 'Default by Balance and Duration')"
      ]
     },
     "execution_count": 72,
     "metadata": {},
     "output_type": "execute_result"
    },
    {
     "data": {
      "image/png": "[encoded data removed]",
      "text/plain": [
       "<Figure size 1109.86x500 with 2 Axes>"
      ]
     },
     "metadata": {},
     "output_type": "display_data"
    }
   ],
   "source": [
    "# default status by campaign duration and balance \n",
    "\n",
    "rp = sns.relplot(x='balance', y='duration', data=df, kind='scatter', col='default_status', \n",
    "            col_order=['yes','no'], style='default_status',hue='default_status',alpha=0.4)\n",
    "\n",
    "rp.fig.subplots_adjust(top=0.9)\n",
    "rp.fig.suptitle('Default by Balance and Duration')"
   ]
  },
  {
   "attachments": {},
   "cell_type": "markdown",
   "metadata": {},
   "source": [
    "There does not appear to be a linear relationship between balance and duration."
   ]
  },
  {
   "cell_type": "code",
   "execution_count": 73,
   "metadata": {},
   "outputs": [
    {
     "data": {
      "text/plain": [
       "Text(0.5, 1.0, 'Default Status by Marital Status')"
      ]
     },
     "execution_count": 73,
     "metadata": {},
     "output_type": "execute_result"
    },
    {
     "data": {
      "image/png": "[encoded data removed]",
      "text/plain": [
       "<Figure size 640x480 with 1 Axes>"
      ]
     },
     "metadata": {},
     "output_type": "display_data"
    }
   ],
   "source": [
    "# default by marital status \n",
    "\n",
    "sns.countplot(x=df['marital_status'], hue='default_status', data=df).set_title('Default Status by Marital Status')"
   ]
  },
  {
   "attachments": {},
   "cell_type": "markdown",
   "metadata": {},
   "source": [
    "Default status does to appear to be related to marital status. However, as most clients surveyed after this campaign are married these results are likely biased. "
   ]
  },
  {
   "cell_type": "code",
   "execution_count": 74,
   "metadata": {},
   "outputs": [
    {
     "data": {
      "text/html": [
       "<div>\n",
       "<style scoped>\n",
       "    .dataframe tbody tr th:only-of-type {\n",
       "        vertical-align: middle;\n",
       "    }\n",
       "\n",
       "    .dataframe tbody tr th {\n",
       "        vertical-align: top;\n",
       "    }\n",
       "\n",
       "    .dataframe thead th {\n",
       "        text-align: right;\n",
       "    }\n",
       "</style>\n",
       "<table border=\"1\" class=\"dataframe\">\n",
       "  <thead>\n",
       "    <tr style=\"text-align: right;\">\n",
       "      <th></th>\n",
       "      <th>age</th>\n",
       "      <th>default_status</th>\n",
       "      <th>balance</th>\n",
       "      <th>loan</th>\n",
       "      <th>duration</th>\n",
       "      <th>pdays</th>\n",
       "      <th>poutcome</th>\n",
       "    </tr>\n",
       "  </thead>\n",
       "  <tbody>\n",
       "    <tr>\n",
       "      <th>44861</th>\n",
       "      <td>55</td>\n",
       "      <td>no</td>\n",
       "      <td>26306</td>\n",
       "      <td>no</td>\n",
       "      <td>84</td>\n",
       "      <td>589</td>\n",
       "      <td>failure</td>\n",
       "    </tr>\n",
       "    <tr>\n",
       "      <th>41798</th>\n",
       "      <td>46</td>\n",
       "      <td>no</td>\n",
       "      <td>37378</td>\n",
       "      <td>no</td>\n",
       "      <td>146</td>\n",
       "      <td>518</td>\n",
       "      <td>failure</td>\n",
       "    </tr>\n",
       "    <tr>\n",
       "      <th>35315</th>\n",
       "      <td>53</td>\n",
       "      <td>no</td>\n",
       "      <td>34230</td>\n",
       "      <td>yes</td>\n",
       "      <td>279</td>\n",
       "      <td>358</td>\n",
       "      <td>other</td>\n",
       "    </tr>\n",
       "    <tr>\n",
       "      <th>42379</th>\n",
       "      <td>46</td>\n",
       "      <td>no</td>\n",
       "      <td>31630</td>\n",
       "      <td>no</td>\n",
       "      <td>448</td>\n",
       "      <td>214</td>\n",
       "      <td>failure</td>\n",
       "    </tr>\n",
       "    <tr>\n",
       "      <th>25783</th>\n",
       "      <td>59</td>\n",
       "      <td>no</td>\n",
       "      <td>32948</td>\n",
       "      <td>no</td>\n",
       "      <td>243</td>\n",
       "      <td>174</td>\n",
       "      <td>failure</td>\n",
       "    </tr>\n",
       "    <tr>\n",
       "      <th>34424</th>\n",
       "      <td>34</td>\n",
       "      <td>no</td>\n",
       "      <td>26575</td>\n",
       "      <td>no</td>\n",
       "      <td>245</td>\n",
       "      <td>168</td>\n",
       "      <td>failure</td>\n",
       "    </tr>\n",
       "    <tr>\n",
       "      <th>31038</th>\n",
       "      <td>54</td>\n",
       "      <td>no</td>\n",
       "      <td>26306</td>\n",
       "      <td>no</td>\n",
       "      <td>27</td>\n",
       "      <td>84</td>\n",
       "      <td>failure</td>\n",
       "    </tr>\n",
       "    <tr>\n",
       "      <th>43953</th>\n",
       "      <td>71</td>\n",
       "      <td>no</td>\n",
       "      <td>29941</td>\n",
       "      <td>no</td>\n",
       "      <td>80</td>\n",
       "      <td>71</td>\n",
       "      <td>other</td>\n",
       "    </tr>\n",
       "    <tr>\n",
       "      <th>27327</th>\n",
       "      <td>58</td>\n",
       "      <td>no</td>\n",
       "      <td>26254</td>\n",
       "      <td>no</td>\n",
       "      <td>53</td>\n",
       "      <td>31</td>\n",
       "      <td>failure</td>\n",
       "    </tr>\n",
       "    <tr>\n",
       "      <th>29512</th>\n",
       "      <td>59</td>\n",
       "      <td>no</td>\n",
       "      <td>44134</td>\n",
       "      <td>no</td>\n",
       "      <td>117</td>\n",
       "      <td>-1</td>\n",
       "      <td>unknown</td>\n",
       "    </tr>\n",
       "  </tbody>\n",
       "</table>\n",
       "</div>"
      ],
      "text/plain": [
       "       age default_status  balance loan  duration  pdays poutcome\n",
       "44861   55             no    26306   no        84    589  failure\n",
       "41798   46             no    37378   no       146    518  failure\n",
       "35315   53             no    34230  yes       279    358    other\n",
       "42379   46             no    31630   no       448    214  failure\n",
       "25783   59             no    32948   no       243    174  failure\n",
       "34424   34             no    26575   no       245    168  failure\n",
       "31038   54             no    26306   no        27     84  failure\n",
       "43953   71             no    29941   no        80     71    other\n",
       "27327   58             no    26254   no        53     31  failure\n",
       "29512   59             no    44134   no       117     -1  unknown"
      ]
     },
     "execution_count": 74,
     "metadata": {},
     "output_type": "execute_result"
    }
   ],
   "source": [
    "# select a target market list for new campaign \n",
    "\n",
    "# there is extra space after the current term description outcome \n",
    "df['subscribed'] = df['subscribed'].str.strip()\n",
    "\n",
    "# balances over 25,000 and term deposit subscription is no \n",
    "target = df[(df['balance']>25000) & (df['subscribed']=='no')]\n",
    "target[['age','default_status','balance','loan','duration','pdays','poutcome']].sort_values('pdays', ascending=False).head(10)\n"
   ]
  },
  {
   "attachments": {},
   "cell_type": "markdown",
   "metadata": {},
   "source": [
    "We create a list of potential clients to target for future campaigns. We consider clients with a large balance (greater than $25,000) and those who did not subscribe to a term deposit. The list is ordered by those with the longest time between campaigns. This would allow marketing to reach out to clients with the longest contact gap. "
   ]
  }
 ],
 "metadata": {
  "kernelspec": {
   "display_name": "bankMarket",
   "language": "python",
   "name": "python3"
  },
  "language_info": {
   "codemirror_mode": {
    "name": "ipython",
    "version": 3
   },
   "file_extension": ".py",
   "mimetype": "text/x-python",
   "name": "python",
   "nbconvert_exporter": "python",
   "pygments_lexer": "ipython3",
   "version": "3.10.8 | packaged by conda-forge | (main, Nov 24 2022, 14:07:00) [MSC v.1916 64 bit (AMD64)]"
  },
  "orig_nbformat": 4,
  "vscode": {
   "interpreter": {
    "hash": "979918d39152dcf8573376ce006bc2420773ba65c14b2b441cc1bc98b0bf3329"
   }
  }
 },
 "nbformat": 4,
 "nbformat_minor": 2
}
